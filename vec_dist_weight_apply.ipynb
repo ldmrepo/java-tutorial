{
  "nbformat": 4,
  "nbformat_minor": 0,
  "metadata": {
    "colab": {
      "provenance": [],
      "authorship_tag": "ABX9TyN8JNbZqoc2wP0KzVferV4Q",
      "include_colab_link": true
    },
    "kernelspec": {
      "name": "python3",
      "display_name": "Python 3"
    },
    "language_info": {
      "name": "python"
    }
  },
  "cells": [
    {
      "cell_type": "markdown",
      "metadata": {
        "id": "view-in-github",
        "colab_type": "text"
      },
      "source": [
        "<a href=\"https://colab.research.google.com/github/ldmrepo/java-tutorial/blob/main/vec_dist_weight_apply.ipynb\" target=\"_parent\"><img src=\"https://colab.research.google.com/assets/colab-badge.svg\" alt=\"Open In Colab\"/></a>"
      ]
    },
    {
      "cell_type": "markdown",
      "source": [
        "1. **가중치 행렬 \\( \\mathbf{W} \\)**:\n",
        "   이 행렬은 각 요소에 적용할 가중치를 담고 있습니다. 요소 간 거리에 따라 가중치가 결정됩니다. 예를 들어, 5차원 벡터에 대한 가중치 행렬은 다음과 같이 표현될 수 있습니다:\n",
        "   $$\n",
        "   \\mathbf{W} = \\begin{bmatrix}\n",
        "   0 & w_{1,2} & w_{1,3} & w_{1,4} & w_{1,5} \\\\\n",
        "   w_{2,1} & 0 & w_{2,3} & w_{2,4} & w_{2,5} \\\\\n",
        "   w_{3,1} & w_{3,2} & 0 & w_{3,4} & w_{3,5} \\\\\n",
        "   w_{4,1} & w_{4,2} & w_{4,3} & 0 & w_{4,5} \\\\\n",
        "   w_{5,1} & w_{5,2} & w_{5,3} & w_{5,4} & 0 \\\\\n",
        "   \\end{bmatrix}\n",
        "   $$\n",
        "   여기서 \\( w_{i,j} \\)는 i번째 요소와 j번째 요소 사이의 거리에 반비례하는 가중치입니다.\n",
        "\n",
        "2. **가중치 적용**:\n",
        "   벡터 \\( \\mathbf{v} \\)에 가중치 행렬 \\( \\mathbf{W} \\)를 적용해 새로운 벡터 \\( \\mathbf{v}' \\)를 계산합니다. 이는 행렬 곱셈으로 표현됩니다:\n",
        "   $$\n",
        "   \\mathbf{v}' = \\mathbf{W} \\mathbf{v}\n",
        "   $$\n",
        "\n",
        "3. **원래 값 유지**:\n",
        "   벡터 \\( \\mathbf{v} \\)의 원래 값이 있는 위치를 \\( \\mathbf{v}' \\)에서 유지합니다. 만약 \\( \\mathbf{v} \\)의 최대값이 있는 인덱스가 \\( i \\)라면, \\( \\mathbf{v}'[i] = \\mathbf{v}[i] \\)로 설정합니다.\n",
        "\n",
        "4. **무작위성 추가**:\n",
        "   각 요소에 무작위 값을 더하여 새로운 벡터 \\( \\mathbf{v}'' \\)를 생성합니다:\n",
        "   $$\n",
        "   \\mathbf{v}'' = \\mathbf{v}' + \\text{Random}(-\\epsilon, \\epsilon)\n",
        "   $$\n",
        "   여기서 \\( \\epsilon \\)은 작은 상수이며, \\(\\text{Random}(-\\epsilon, \\epsilon)\\)는 각 요소에 무작위로 선택된 값을 의미합니다.\n",
        "\n",
        "5. **정규화**:\n",
        "   \\( \\mathbf{v}'' \\)의 모든 요소의 합이 1이 되도록 정규화합니다:\n",
        "   $$\n",
        "   \\mathbf{v}'' = \\frac{\\mathbf{v}''}{\\sum \\mathbf{v}''}\n",
        "   $$\n"
      ],
      "metadata": {
        "id": "UH-3Q-eRACBb"
      }
    },
    {
      "cell_type": "code",
      "execution_count": 6,
      "metadata": {
        "colab": {
          "base_uri": "https://localhost:8080/"
        },
        "id": "Ky8U958y1Cgf",
        "outputId": "200569ee-e1e9-4cc5-c046-8dc8cf8227cb"
      },
      "outputs": [
        {
          "output_type": "stream",
          "name": "stdout",
          "text": [
            "[[0.         0.5        0.33333333 0.25       0.2       ]\n",
            " [0.5        0.         0.5        0.33333333 0.25      ]\n",
            " [0.33333333 0.5        0.         0.5        0.33333333]\n",
            " [0.25       0.33333333 0.5        0.         0.5       ]\n",
            " [0.2        0.25       0.33333333 0.5        0.        ]]\n"
          ]
        }
      ],
      "source": [
        "import numpy as np\n",
        "\n",
        "\"\"\"\n",
        "1. 거리 가중치 행렬 생성\n",
        "2. 입력된 벡터들에 대해 가중치 행렬을 적용\n",
        "3. 각 벡터의 원래 값이 있는 위치를 유지\n",
        "4. 무작위성 추가\n",
        "\"\"\"\n",
        "def create_weight_matrix(size):\n",
        "    \"\"\" 주어진 크기에 대한 가중치 행렬 생성 \"\"\"\n",
        "    return np.array([[0 if i == j else 1 / (abs(i - j) + 1) for j in range(size)] for i in range(size)])\n",
        "\n",
        "def apply_weights(v, weight_matrix):\n",
        "    \"\"\" 벡터에 가중치 행렬 적용 \"\"\"\n",
        "    return np.dot(weight_matrix, v)\n",
        "\n",
        "def preserve_original_value(v, weighted_v):\n",
        "    \"\"\" 원래 값이 있는 위치의 요소 유지 \"\"\"\n",
        "    original_value_index = np.argmax(v)\n",
        "    original_value = v[original_value_index]\n",
        "    weighted_v -= weighted_v[original_value_index]  # 원래 값 제거\n",
        "    weighted_v /= np.sum(weighted_v)  # 정규화\n",
        "    weighted_v *= (1 - original_value)  # 원래 값 고려하여 조정\n",
        "    weighted_v[original_value_index] = original_value  # 원래 값 복원\n",
        "    return weighted_v\n",
        "\n",
        "def add_randomness(v, randomness_scale=0.01):\n",
        "    \"\"\" 벡터에 무작위성 추가 \"\"\"\n",
        "    random_v = v + np.random.uniform(-randomness_scale, randomness_scale, v.shape)\n",
        "    random_v[random_v < 0] = 0  # 음수 방지\n",
        "    random_v /= np.sum(random_v)  # 정규화\n",
        "    return random_v\n",
        "\n",
        "def process_vectors(vectors, weight_matrix, randomness_scale=0.01):\n",
        "    \"\"\" 벡터들을 처리하는 메인 함수 \"\"\"\n",
        "    return [add_randomness(preserve_original_value(v, apply_weights(v, weight_matrix)), randomness_scale) for v in vectors]\n",
        "\n",
        "# 벡터와 가중치 행렬\n",
        "vectors = np.array([\n",
        "    [0, 0.6, 0, 0, 0],\n",
        "    [0, 0, 0, 0.7, 0],\n",
        "    [0.9, 0, 0, 0, 0]\n",
        "])\n",
        "weight_matrix = create_weight_matrix(5)\n",
        "\n",
        "# 처리된 벡터들\n",
        "processed_vectors = process_vectors(vectors, weight_matrix)\n",
        "processed_vectors"
      ]
    }
  ]
}